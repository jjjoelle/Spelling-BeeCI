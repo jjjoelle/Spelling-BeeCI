{
 "cells": [
  {
   "cell_type": "code",
   "execution_count": 51,
   "id": "4f06641a-1230-414d-8be2-089980847b76",
   "metadata": {},
   "outputs": [],
   "source": [
    "from preprocessing import *\n",
    "from import_data import *\n",
    "from plotting import *\n",
    "data_dir = 'DataCollection/outputs/'\n",
    "ssvep_dir = data_dir + 'SSVEP/sess2/'\n",
    "bci_dir = '../Documents/OpenBCI_GUI/Recordings/OpenBCISession_2023-03-10_14-09-51/'\n",
    "col_names = ['Fp1', 'O1', 'O2','C3','C4','P3','P4','Pz']\n",
    "ssvep_files = get_files(ssvep_dir)\n",
    "bci_files = get_files(bci_dir)"
   ]
  },
  {
   "cell_type": "code",
   "execution_count": 52,
   "id": "8fedccec-fc63-4303-b6ef-45a61ae237b0",
   "metadata": {},
   "outputs": [
    {
     "data": {
      "text/plain": [
       "['DataCollection/outputs/SSVEP/sess2/2023-03-10T14:06:15.830513_baseline.txt',\n",
       " 'DataCollection/outputs/SSVEP/sess2/2023-03-10T14:06:15.830513_metadata.txt',\n",
       " 'DataCollection/outputs/SSVEP/sess2/2023-03-10T14:16:34.360184_10.00Hz.txt',\n",
       " 'DataCollection/outputs/SSVEP/sess2/2023-03-10T14:16:34.360184_10.80Hz.txt',\n",
       " 'DataCollection/outputs/SSVEP/sess2/2023-03-10T14:16:34.360184_11.60Hz.txt',\n",
       " 'DataCollection/outputs/SSVEP/sess2/2023-03-10T14:16:34.360184_12.40Hz.txt',\n",
       " 'DataCollection/outputs/SSVEP/sess2/2023-03-10T14:16:34.360184_13.20Hz.txt',\n",
       " 'DataCollection/outputs/SSVEP/sess2/2023-03-10T14:16:34.360184_14.00Hz.txt',\n",
       " 'DataCollection/outputs/SSVEP/sess2/2023-03-10T14:16:34.360184_14.80Hz.txt',\n",
       " 'DataCollection/outputs/SSVEP/sess2/2023-03-10T14:16:34.360184_15.60Hz.txt',\n",
       " 'DataCollection/outputs/SSVEP/sess2/2023-03-10T14:16:34.360184_8.40Hz.txt',\n",
       " 'DataCollection/outputs/SSVEP/sess2/2023-03-10T14:16:34.360184_9.20Hz.txt',\n",
       " 'DataCollection/outputs/SSVEP/sess2/2023-03-10T14:16:34.360184_baseline.txt',\n",
       " 'DataCollection/outputs/SSVEP/sess2/2023-03-10T14:16:34.360184_metadata.txt',\n",
       " 'DataCollection/outputs/SSVEP/sess2/2023-03-10T14:22:21.799224_10.00Hz.txt',\n",
       " 'DataCollection/outputs/SSVEP/sess2/2023-03-10T14:22:21.799224_10.80Hz.txt',\n",
       " 'DataCollection/outputs/SSVEP/sess2/2023-03-10T14:22:21.799224_11.60Hz.txt',\n",
       " 'DataCollection/outputs/SSVEP/sess2/2023-03-10T14:22:21.799224_12.40Hz.txt',\n",
       " 'DataCollection/outputs/SSVEP/sess2/2023-03-10T14:22:21.799224_13.20Hz.txt',\n",
       " 'DataCollection/outputs/SSVEP/sess2/2023-03-10T14:22:21.799224_14.00Hz.txt',\n",
       " 'DataCollection/outputs/SSVEP/sess2/2023-03-10T14:22:21.799224_14.80Hz.txt',\n",
       " 'DataCollection/outputs/SSVEP/sess2/2023-03-10T14:22:21.799224_15.60Hz.txt',\n",
       " 'DataCollection/outputs/SSVEP/sess2/2023-03-10T14:22:21.799224_8.40Hz.txt',\n",
       " 'DataCollection/outputs/SSVEP/sess2/2023-03-10T14:22:21.799224_9.20Hz.txt',\n",
       " 'DataCollection/outputs/SSVEP/sess2/2023-03-10T14:22:21.799224_baseline.txt',\n",
       " 'DataCollection/outputs/SSVEP/sess2/2023-03-10T14:22:21.799224_metadata.txt',\n",
       " 'DataCollection/outputs/SSVEP/sess2/2023-03-10T14:24:05.929564_10.00Hz.txt',\n",
       " 'DataCollection/outputs/SSVEP/sess2/2023-03-10T14:24:05.929564_10.80Hz.txt',\n",
       " 'DataCollection/outputs/SSVEP/sess2/2023-03-10T14:24:05.929564_11.60Hz.txt',\n",
       " 'DataCollection/outputs/SSVEP/sess2/2023-03-10T14:24:05.929564_12.40Hz.txt',\n",
       " 'DataCollection/outputs/SSVEP/sess2/2023-03-10T14:24:05.929564_13.20Hz.txt',\n",
       " 'DataCollection/outputs/SSVEP/sess2/2023-03-10T14:24:05.929564_14.00Hz.txt',\n",
       " 'DataCollection/outputs/SSVEP/sess2/2023-03-10T14:24:05.929564_14.80Hz.txt',\n",
       " 'DataCollection/outputs/SSVEP/sess2/2023-03-10T14:24:05.929564_15.60Hz.txt',\n",
       " 'DataCollection/outputs/SSVEP/sess2/2023-03-10T14:24:05.929564_8.40Hz.txt',\n",
       " 'DataCollection/outputs/SSVEP/sess2/2023-03-10T14:24:05.929564_9.20Hz.txt',\n",
       " 'DataCollection/outputs/SSVEP/sess2/2023-03-10T14:24:05.929564_baseline.txt',\n",
       " 'DataCollection/outputs/SSVEP/sess2/2023-03-10T14:24:05.929564_metadata.txt']"
      ]
     },
     "execution_count": 52,
     "metadata": {},
     "output_type": "execute_result"
    }
   ],
   "source": [
    "ssvep_files"
   ]
  },
  {
   "cell_type": "code",
   "execution_count": 53,
   "id": "ae5cb128-00e0-4fdf-8209-3e3d0da9ef8a",
   "metadata": {},
   "outputs": [],
   "source": [
    "eeg_file = ssvep_files[9]\n",
    "openbci_file = bci_files[1]"
   ]
  },
  {
   "cell_type": "code",
   "execution_count": 54,
   "id": "42294c1f-ddaa-4e88-8158-a8bbb53b671b",
   "metadata": {},
   "outputs": [],
   "source": [
    "eeg = read_file(eeg_file, col_names)\n",
    "openbci, num_channels, Fs, column_names = read_openbci_file(openbci_file)\n",
    "idx = get_idx(openbci, column_names, eeg, col_names)\n",
    "baseline_correct(openbci, column_names, eeg, col_names, idx)"
   ]
  },
  {
   "cell_type": "code",
   "execution_count": 57,
   "id": "d343c2a8-6954-4e28-b593-37987b8e8f9c",
   "metadata": {},
   "outputs": [],
   "source": [
    "def filter_eeg_test(eeg, Fs, low, high, notch_freq=60.0):\n",
    "    filtered_eeg = pd.DataFrame()\n",
    "    for chan in eeg.columns:\n",
    "        #filtered_eeg[chan] = eeg[chan][int(Fs*0.5):int(-Fs*0.5)]\n",
    "        filtered_eeg[chan] = butter_notch(eeg[chan], Fs, notch_freq)\n",
    "        filtered_eeg[chan] = butter_band(filtered_eeg[chan], Fs, low, high)\n",
    "    return filtered_eeg"
   ]
  },
  {
   "cell_type": "code",
   "execution_count": 58,
   "id": "c7e82f3e-d77f-46ae-b945-66027fdde1d1",
   "metadata": {},
   "outputs": [],
   "source": [
    "filtered_eeg = filter_eeg_test(eeg, Fs, low=1, high=124)"
   ]
  },
  {
   "cell_type": "code",
   "execution_count": 59,
   "id": "0543ee04-db6d-41af-b725-5d6ed2f5b6e3",
   "metadata": {},
   "outputs": [
    {
     "data": {
      "text/html": [
       "<div>\n",
       "<style scoped>\n",
       "    .dataframe tbody tr th:only-of-type {\n",
       "        vertical-align: middle;\n",
       "    }\n",
       "\n",
       "    .dataframe tbody tr th {\n",
       "        vertical-align: top;\n",
       "    }\n",
       "\n",
       "    .dataframe thead th {\n",
       "        text-align: right;\n",
       "    }\n",
       "</style>\n",
       "<table border=\"1\" class=\"dataframe\">\n",
       "  <thead>\n",
       "    <tr style=\"text-align: right;\">\n",
       "      <th></th>\n",
       "      <th>Fp1</th>\n",
       "      <th>O1</th>\n",
       "      <th>O2</th>\n",
       "      <th>C3</th>\n",
       "      <th>C4</th>\n",
       "      <th>P3</th>\n",
       "      <th>P4</th>\n",
       "      <th>Pz</th>\n",
       "    </tr>\n",
       "  </thead>\n",
       "  <tbody>\n",
       "    <tr>\n",
       "      <th>0</th>\n",
       "      <td>-38.881465</td>\n",
       "      <td>8.388508</td>\n",
       "      <td>-2.981386</td>\n",
       "      <td>1.440873</td>\n",
       "      <td>0.437298</td>\n",
       "      <td>2.091161</td>\n",
       "      <td>3.904725</td>\n",
       "      <td>3.872328</td>\n",
       "    </tr>\n",
       "    <tr>\n",
       "      <th>1</th>\n",
       "      <td>-77.891596</td>\n",
       "      <td>49.611238</td>\n",
       "      <td>-31.989401</td>\n",
       "      <td>24.502564</td>\n",
       "      <td>-0.844998</td>\n",
       "      <td>18.165659</td>\n",
       "      <td>37.840545</td>\n",
       "      <td>31.574903</td>\n",
       "    </tr>\n",
       "    <tr>\n",
       "      <th>2</th>\n",
       "      <td>-107.815289</td>\n",
       "      <td>51.466458</td>\n",
       "      <td>-37.520352</td>\n",
       "      <td>19.339747</td>\n",
       "      <td>-2.381698</td>\n",
       "      <td>0.363491</td>\n",
       "      <td>44.219186</td>\n",
       "      <td>35.154696</td>\n",
       "    </tr>\n",
       "    <tr>\n",
       "      <th>3</th>\n",
       "      <td>-98.750306</td>\n",
       "      <td>21.562483</td>\n",
       "      <td>-0.339579</td>\n",
       "      <td>-7.016513</td>\n",
       "      <td>-4.266855</td>\n",
       "      <td>-16.630056</td>\n",
       "      <td>20.496484</td>\n",
       "      <td>14.843661</td>\n",
       "    </tr>\n",
       "    <tr>\n",
       "      <th>4</th>\n",
       "      <td>-89.302776</td>\n",
       "      <td>1.168094</td>\n",
       "      <td>20.339654</td>\n",
       "      <td>-14.462377</td>\n",
       "      <td>-1.805761</td>\n",
       "      <td>-13.106268</td>\n",
       "      <td>15.373011</td>\n",
       "      <td>8.448523</td>\n",
       "    </tr>\n",
       "    <tr>\n",
       "      <th>...</th>\n",
       "      <td>...</td>\n",
       "      <td>...</td>\n",
       "      <td>...</td>\n",
       "      <td>...</td>\n",
       "      <td>...</td>\n",
       "      <td>...</td>\n",
       "      <td>...</td>\n",
       "      <td>...</td>\n",
       "    </tr>\n",
       "    <tr>\n",
       "      <th>1745</th>\n",
       "      <td>0.945738</td>\n",
       "      <td>-11.351705</td>\n",
       "      <td>0.275304</td>\n",
       "      <td>-2.463263</td>\n",
       "      <td>-0.392728</td>\n",
       "      <td>-5.497852</td>\n",
       "      <td>-3.902125</td>\n",
       "      <td>-1.907938</td>\n",
       "    </tr>\n",
       "    <tr>\n",
       "      <th>1746</th>\n",
       "      <td>-10.889798</td>\n",
       "      <td>7.057587</td>\n",
       "      <td>-18.359007</td>\n",
       "      <td>11.483351</td>\n",
       "      <td>0.257221</td>\n",
       "      <td>3.172836</td>\n",
       "      <td>14.056666</td>\n",
       "      <td>11.791066</td>\n",
       "    </tr>\n",
       "    <tr>\n",
       "      <th>1747</th>\n",
       "      <td>-34.975296</td>\n",
       "      <td>29.901676</td>\n",
       "      <td>-41.168639</td>\n",
       "      <td>23.331745</td>\n",
       "      <td>-0.612588</td>\n",
       "      <td>9.668177</td>\n",
       "      <td>24.357576</td>\n",
       "      <td>22.597186</td>\n",
       "    </tr>\n",
       "    <tr>\n",
       "      <th>1748</th>\n",
       "      <td>-23.092350</td>\n",
       "      <td>16.785464</td>\n",
       "      <td>-24.942428</td>\n",
       "      <td>13.491626</td>\n",
       "      <td>-0.990178</td>\n",
       "      <td>5.530506</td>\n",
       "      <td>14.903755</td>\n",
       "      <td>12.383439</td>\n",
       "    </tr>\n",
       "    <tr>\n",
       "      <th>1749</th>\n",
       "      <td>-0.221134</td>\n",
       "      <td>-0.047453</td>\n",
       "      <td>1.904341</td>\n",
       "      <td>-0.613226</td>\n",
       "      <td>0.825860</td>\n",
       "      <td>0.560539</td>\n",
       "      <td>0.992860</td>\n",
       "      <td>0.545139</td>\n",
       "    </tr>\n",
       "  </tbody>\n",
       "</table>\n",
       "<p>1750 rows × 8 columns</p>\n",
       "</div>"
      ],
      "text/plain": [
       "             Fp1         O1         O2         C3        C4         P3  \\\n",
       "0     -38.881465   8.388508  -2.981386   1.440873  0.437298   2.091161   \n",
       "1     -77.891596  49.611238 -31.989401  24.502564 -0.844998  18.165659   \n",
       "2    -107.815289  51.466458 -37.520352  19.339747 -2.381698   0.363491   \n",
       "3     -98.750306  21.562483  -0.339579  -7.016513 -4.266855 -16.630056   \n",
       "4     -89.302776   1.168094  20.339654 -14.462377 -1.805761 -13.106268   \n",
       "...          ...        ...        ...        ...       ...        ...   \n",
       "1745    0.945738 -11.351705   0.275304  -2.463263 -0.392728  -5.497852   \n",
       "1746  -10.889798   7.057587 -18.359007  11.483351  0.257221   3.172836   \n",
       "1747  -34.975296  29.901676 -41.168639  23.331745 -0.612588   9.668177   \n",
       "1748  -23.092350  16.785464 -24.942428  13.491626 -0.990178   5.530506   \n",
       "1749   -0.221134  -0.047453   1.904341  -0.613226  0.825860   0.560539   \n",
       "\n",
       "             P4         Pz  \n",
       "0      3.904725   3.872328  \n",
       "1     37.840545  31.574903  \n",
       "2     44.219186  35.154696  \n",
       "3     20.496484  14.843661  \n",
       "4     15.373011   8.448523  \n",
       "...         ...        ...  \n",
       "1745  -3.902125  -1.907938  \n",
       "1746  14.056666  11.791066  \n",
       "1747  24.357576  22.597186  \n",
       "1748  14.903755  12.383439  \n",
       "1749   0.992860   0.545139  \n",
       "\n",
       "[1750 rows x 8 columns]"
      ]
     },
     "execution_count": 59,
     "metadata": {},
     "output_type": "execute_result"
    }
   ],
   "source": [
    "filtered_eeg"
   ]
  },
  {
   "cell_type": "code",
   "execution_count": 61,
   "id": "0c1ade70-3cb6-4b08-a7ae-2bfc5e413655",
   "metadata": {},
   "outputs": [
    {
     "data": {
      "text/plain": [
       "(0.0, 30.0)"
      ]
     },
     "execution_count": 61,
     "metadata": {},
     "output_type": "execute_result"
    },
    {
     "data": {
      "image/png": "[encoded data removed]",
      "text/plain": [
       "<Figure size 432x288 with 1 Axes>"
      ]
     },
     "metadata": {
      "needs_background": "light"
     },
     "output_type": "display_data"
    }
   ],
   "source": [
    "freqs, ps = power_spectrum(filtered_eeg, Fs)\n",
    "plot_power(freqs, ps, 'O1', Fs, 100)\n",
    "plt.xlim(0,30)"
   ]
  },
  {
   "cell_type": "code",
   "execution_count": 65,
   "id": "7bb7410d-0d3f-4b9c-9863-df44be9f3b6b",
   "metadata": {},
   "outputs": [
    {
     "data": {
      "text/plain": [
       "(1750,)"
      ]
     },
     "execution_count": 65,
     "metadata": {},
     "output_type": "execute_result"
    }
   ],
   "source": [
    "freqs.shape"
   ]
  },
  {
   "cell_type": "code",
   "execution_count": null,
   "id": "dabba95b-6ba1-40cf-93d5-b6607fa89ed1",
   "metadata": {},
   "outputs": [],
   "source": []
  }
 ],
 "metadata": {
  "kernelspec": {
   "display_name": "Python 3 (ipykernel)",
   "language": "python",
   "name": "python3"
  },
  "language_info": {
   "codemirror_mode": {
    "name": "ipython",
    "version": 3
   },
   "file_extension": ".py",
   "mimetype": "text/x-python",
   "name": "python",
   "nbconvert_exporter": "python",
   "pygments_lexer": "ipython3",
   "version": "3.9.7"
  }
 },
 "nbformat": 4,
 "nbformat_minor": 5
}
