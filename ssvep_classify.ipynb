{
 "cells": [
  {
   "cell_type": "code",
   "execution_count": 51,
   "id": "4f06641a-1230-414d-8be2-089980847b76",
   "metadata": {},
   "outputs": [],
   "source": [
    "from preprocessing import *\n",
    "from import_data import *\n",
    "from plotting import *\n",
    "data_dir = 'DataCollection/outputs/'\n",
    "ssvep_dir = data_dir + 'SSVEP/sess2/'\n",
    "bci_dir = '../Documents/OpenBCI_GUI/Recordings/OpenBCISession_2023-03-10_14-09-51/'\n",
    "col_names = ['Fp1', 'O1', 'O2','C3','C4','P3','P4','Pz']\n",
    "ssvep_files = get_files(ssvep_dir)\n",
    "bci_files = get_files(bci_dir)"
   ]
  },
  {
   "cell_type": "code",
   "execution_count": 52,
   "id": "8fedccec-fc63-4303-b6ef-45a61ae237b0",
   "metadata": {},
   "outputs": [
    {
     "data": {
      "text/plain": [
       "['DataCollection/outputs/SSVEP/sess2/2023-03-10T14:06:15.830513_baseline.txt',\n",
       " 'DataCollection/outputs/SSVEP/sess2/2023-03-10T14:06:15.830513_metadata.txt',\n",
       " 'DataCollection/outputs/SSVEP/sess2/2023-03-10T14:16:34.360184_10.00Hz.txt',\n",
       " 'DataCollection/outputs/SSVEP/sess2/2023-03-10T14:16:34.360184_10.80Hz.txt',\n",
       " 'DataCollection/outputs/SSVEP/sess2/2023-03-10T14:16:34.360184_11.60Hz.txt',\n",
       " 'DataCollection/outputs/SSVEP/sess2/2023-03-10T14:16:34.360184_12.40Hz.txt',\n",
       " 'DataCollection/outputs/SSVEP/sess2/2023-03-10T14:16:34.360184_13.20Hz.txt',\n",
       " 'DataCollection/outputs/SSVEP/sess2/2023-03-10T14:16:34.360184_14.00Hz.txt',\n",
       " 'DataCollection/outputs/SSVEP/sess2/2023-03-10T14:16:34.360184_14.80Hz.txt',\n",
       " 'DataCollection/outputs/SSVEP/sess2/2023-03-10T14:16:34.360184_15.60Hz.txt',\n",
       " 'DataCollection/outputs/SSVEP/sess2/2023-03-10T14:16:34.360184_8.40Hz.txt',\n",
       " 'DataCollection/outputs/SSVEP/sess2/2023-03-10T14:16:34.360184_9.20Hz.txt',\n",
       " 'DataCollection/outputs/SSVEP/sess2/2023-03-10T14:16:34.360184_baseline.txt',\n",
       " 'DataCollection/outputs/SSVEP/sess2/2023-03-10T14:16:34.360184_metadata.txt',\n",
       " 'DataCollection/outputs/SSVEP/sess2/2023-03-10T14:22:21.799224_10.00Hz.txt',\n",
       " 'DataCollection/outputs/SSVEP/sess2/2023-03-10T14:22:21.799224_10.80Hz.txt',\n",
       " 'DataCollection/outputs/SSVEP/sess2/2023-03-10T14:22:21.799224_11.60Hz.txt',\n",
       " 'DataCollection/outputs/SSVEP/sess2/2023-03-10T14:22:21.799224_12.40Hz.txt',\n",
       " 'DataCollection/outputs/SSVEP/sess2/2023-03-10T14:22:21.799224_13.20Hz.txt',\n",
       " 'DataCollection/outputs/SSVEP/sess2/2023-03-10T14:22:21.799224_14.00Hz.txt',\n",
       " 'DataCollection/outputs/SSVEP/sess2/2023-03-10T14:22:21.799224_14.80Hz.txt',\n",
       " 'DataCollection/outputs/SSVEP/sess2/2023-03-10T14:22:21.799224_15.60Hz.txt',\n",
       " 'DataCollection/outputs/SSVEP/sess2/2023-03-10T14:22:21.799224_8.40Hz.txt',\n",
       " 'DataCollection/outputs/SSVEP/sess2/2023-03-10T14:22:21.799224_9.20Hz.txt',\n",
       " 'DataCollection/outputs/SSVEP/sess2/2023-03-10T14:22:21.799224_baseline.txt',\n",
       " 'DataCollection/outputs/SSVEP/sess2/2023-03-10T14:22:21.799224_metadata.txt',\n",
       " 'DataCollection/outputs/SSVEP/sess2/2023-03-10T14:24:05.929564_10.00Hz.txt',\n",
       " 'DataCollection/outputs/SSVEP/sess2/2023-03-10T14:24:05.929564_10.80Hz.txt',\n",
       " 'DataCollection/outputs/SSVEP/sess2/2023-03-10T14:24:05.929564_11.60Hz.txt',\n",
       " 'DataCollection/outputs/SSVEP/sess2/2023-03-10T14:24:05.929564_12.40Hz.txt',\n",
       " 'DataCollection/outputs/SSVEP/sess2/2023-03-10T14:24:05.929564_13.20Hz.txt',\n",
       " 'DataCollection/outputs/SSVEP/sess2/2023-03-10T14:24:05.929564_14.00Hz.txt',\n",
       " 'DataCollection/outputs/SSVEP/sess2/2023-03-10T14:24:05.929564_14.80Hz.txt',\n",
       " 'DataCollection/outputs/SSVEP/sess2/2023-03-10T14:24:05.929564_15.60Hz.txt',\n",
       " 'DataCollection/outputs/SSVEP/sess2/2023-03-10T14:24:05.929564_8.40Hz.txt',\n",
       " 'DataCollection/outputs/SSVEP/sess2/2023-03-10T14:24:05.929564_9.20Hz.txt',\n",
       " 'DataCollection/outputs/SSVEP/sess2/2023-03-10T14:24:05.929564_baseline.txt',\n",
       " 'DataCollection/outputs/SSVEP/sess2/2023-03-10T14:24:05.929564_metadata.txt']"
      ]
     },
     "execution_count": 52,
     "metadata": {},
     "output_type": "execute_result"
    }
   ],
   "source": [
    "ssvep_files"
   ]
  },
  {
   "cell_type": "code",
   "execution_count": 53,
   "id": "ae5cb128-00e0-4fdf-8209-3e3d0da9ef8a",
   "metadata": {},
   "outputs": [],
   "source": [
    "eeg_file = ssvep_files[9]\n",
    "openbci_file = bci_files[1]"
   ]
  },
  {
   "cell_type": "code",
   "execution_count": null,
   "id": "dabba95b-6ba1-40cf-93d5-b6607fa89ed1",
   "metadata": {},
   "outputs": [],
   "source": []
  }
 ],
 "metadata": {
  "kernelspec": {
   "display_name": "Python 3 (ipykernel)",
   "language": "python",
   "name": "python3"
  },
  "language_info": {
   "codemirror_mode": {
    "name": "ipython",
    "version": 3
   },
   "file_extension": ".py",
   "mimetype": "text/x-python",
   "name": "python",
   "nbconvert_exporter": "python",
   "pygments_lexer": "ipython3",
   "version": "3.9.7"
  }
 },
 "nbformat": 4,
 "nbformat_minor": 5
}
