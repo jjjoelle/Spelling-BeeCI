{
 "cells": [
  {
   "cell_type": "code",
   "execution_count": 1,
   "id": "0f0e308a-9de6-4b18-9e6e-9077c1b97ae0",
   "metadata": {},
   "outputs": [],
   "source": [
    "import CCACSP\n",
    "from preprocessing import *\n",
    "from import_data import *\n",
    "data_dir = 'DataCollection/outputs/'\n",
    "ssvep_dir = data_dir + 'SSVEP/'\n",
    "mi_dir = data_dir + 'MI/sess2/'\n",
    "bci_dir1 = '../Documents/OpenBCI_GUI/Recordings/OpenBCISession_2023-02-28_12-03-49/'\n",
    "bci_dir2 = '../Documents/OpenBCI_GUI/Recordings/OpenBCISession_2023-03-10_14-09-51/'\n",
    "col_names = ['Fp1', 'O1', 'O2','C3','C4','P3','P4','Pz']\n",
    "mi_files = get_files(mi_dir)\n",
    "#mi_files = [mi_files[i] for i in range(len(mi_files)) if (i+1)%6!=0]\n",
    "bci1_files = get_files(bci_dir1)\n",
    "bci2_files = get_files(bci_dir2)"
   ]
  },
  {
   "cell_type": "code",
   "execution_count": 2,
   "id": "cd194d6a-2df6-45b8-affb-231808905bc8",
   "metadata": {},
   "outputs": [],
   "source": [
    "from sklearn.model_selection import train_test_split"
   ]
  },
  {
   "cell_type": "code",
   "execution_count": 3,
   "id": "d3d2515b-d591-4828-9704-473b543e7385",
   "metadata": {},
   "outputs": [
    {
     "name": "stdout",
     "output_type": "stream",
     "text": [
      "0: DataCollection/outputs/MI/sess2/2023-03-10T14:10:37.683875_MI_MILF.txt\n",
      "1: DataCollection/outputs/MI/sess2/2023-03-10T14:10:37.683875_MI_MIRF.txt\n",
      "2: DataCollection/outputs/MI/sess2/2023-03-10T14:10:37.683875_MI_MISw.txt\n",
      "3: DataCollection/outputs/MI/sess2/2023-03-10T14:10:37.683875_MI_MITy.txt\n",
      "4: DataCollection/outputs/MI/sess2/2023-03-10T14:10:37.683875_MI_NOMI.txt\n",
      "5: DataCollection/outputs/MI/sess2/2023-03-10T14:10:37.683875_MI_baseline.txt\n",
      "6: DataCollection/outputs/MI/sess2/2023-03-10T14:10:37.683875_MI_metadata.txt\n",
      "7: DataCollection/outputs/MI/sess2/2023-03-10T14:51:16.448841_MI_MILF.txt\n",
      "8: DataCollection/outputs/MI/sess2/2023-03-10T14:51:16.448841_MI_MIRF.txt\n",
      "9: DataCollection/outputs/MI/sess2/2023-03-10T14:51:16.448841_MI_MISw.txt\n",
      "10: DataCollection/outputs/MI/sess2/2023-03-10T14:51:16.448841_MI_MITy.txt\n",
      "11: DataCollection/outputs/MI/sess2/2023-03-10T14:51:16.448841_MI_NOMI.txt\n",
      "12: DataCollection/outputs/MI/sess2/2023-03-10T14:51:16.448841_MI_baseline.txt\n",
      "13: DataCollection/outputs/MI/sess2/2023-03-10T14:51:16.448841_MI_metadata.txt\n"
     ]
    }
   ],
   "source": [
    "for i, fi in enumerate(mi_files):\n",
    "    print(\"{}: {}\".format(i,fi))"
   ]
  },
  {
   "cell_type": "code",
   "execution_count": 4,
   "id": "2398e374-1a3d-41fe-b739-d0de102fd904",
   "metadata": {},
   "outputs": [],
   "source": [
    "def snip_eeg(eeg_df, Fs, snip_len, total_len):\n",
    "    npts = total_len * Fs\n",
    "    num_trials = int(len(list(eeg_df['Fp1']))/npts)\n",
    "    snip_df = pd.DataFrame()\n",
    "    for chan in eeg_df.columns:\n",
    "        chan_list = []\n",
    "        for i in range(num_trials):\n",
    "            chan_trial = list(eeg_df[chan])[npts*i:npts*i+(total_len-snip_len)*Fs]\n",
    "            chan_list += chan_trial\n",
    "        snip_df[chan] = chan_list\n",
    "    return snip_df"
   ]
  },
  {
   "cell_type": "code",
   "execution_count": 130,
   "id": "e71ad525-89d6-467f-8f89-e43b82851c78",
   "metadata": {},
   "outputs": [],
   "source": [
    "def get_train_data(mi_file, col_names, bci_file, snip_len=1.5):\n",
    "    eeg, Fs = process_eeg(mi_file, col_names, bci_file, low=2, high=100,snip_len=snip_len)\n",
    "    eeg_np = eeg.to_numpy()\n",
    "    npts = int((5-snip_len)*Fs) #5 if no snip\n",
    "    num_trials = int(eeg_np.shape[0] / npts)\n",
    "    train_data = np.array([eeg_np[i*npts:(i+1)*npts].reshape(8,npts) for i in range(num_trials)])\n",
    "    return train_data"
   ]
  },
  {
   "cell_type": "code",
   "execution_count": 102,
   "id": "da64fb6a-f7ee-4241-87fb-a7c048f27e19",
   "metadata": {},
   "outputs": [],
   "source": [
    "swim = get_train_data(mi_files[2], col_names, bci2_files[1])"
   ]
  },
  {
   "cell_type": "code",
   "execution_count": 103,
   "id": "8cbbc249-7774-48b8-b31b-fa8debbaff26",
   "metadata": {},
   "outputs": [],
   "source": [
    "typing = get_train_data(mi_files[3], col_names, bci2_files[1])"
   ]
  },
  {
   "cell_type": "code",
   "execution_count": 8,
   "id": "dc690779-d850-40f8-a100-497dcf1aacc0",
   "metadata": {},
   "outputs": [],
   "source": [
    "numFilt = 8\n",
    "filers, clf = CCACSP.train(swim, typing, numFilt)"
   ]
  },
  {
   "cell_type": "code",
   "execution_count": 9,
   "id": "094d6c61-de0c-4f75-9e54-407aae24f887",
   "metadata": {},
   "outputs": [],
   "source": [
    "swim_test = get_train_data(mi_files[8], col_names, bci2_files[1])\n",
    "typing_test = get_train_data(mi_files[9], col_names, bci2_files[1])"
   ]
  },
  {
   "cell_type": "code",
   "execution_count": 10,
   "id": "b58479cd-34ef-496a-8cea-5b79f09c31d7",
   "metadata": {},
   "outputs": [
    {
     "data": {
      "text/plain": [
       "((4, 8, 750), (4, 8, 750))"
      ]
     },
     "execution_count": 10,
     "metadata": {},
     "output_type": "execute_result"
    }
   ],
   "source": [
    "swim_test.shape, typing_test.shape"
   ]
  },
  {
   "cell_type": "code",
   "execution_count": 11,
   "id": "4d6bf51f-136c-4cf2-bc09-48623fd3c4c6",
   "metadata": {},
   "outputs": [
    {
     "data": {
      "text/plain": [
       "array([0.])"
      ]
     },
     "execution_count": 11,
     "metadata": {},
     "output_type": "execute_result"
    }
   ],
   "source": [
    "output = CCACSP.test(swim_test[2], filers, clf)\n",
    "output"
   ]
  },
  {
   "cell_type": "code",
   "execution_count": 34,
   "id": "66152041-ff45-47f2-8681-0348a60a9b0f",
   "metadata": {},
   "outputs": [],
   "source": [
    "class_dict = {'lf':0,'rf':1,'swim':2,'type':3,'no':4}"
   ]
  },
  {
   "cell_type": "code",
   "execution_count": 36,
   "id": "3396bff2-3d27-452a-98fe-ad3a3d66c21d",
   "metadata": {},
   "outputs": [],
   "source": [
    "def compare_classes(class1,class2,bci_file):\n",
    "    c1 = class_dict[class1]\n",
    "    class1_data = []\n",
    "    c2 = class_dict[class2]\n",
    "    class2_data = []\n",
    "    for sess in range(2):\n",
    "        class1_file = mi_files[7*sess + c1]\n",
    "        class1_data.append(get_train_data(class1_file,col_names,bci_file))\n",
    "        class2_file = mi_files[7*sess + c2]\n",
    "        class2_data.append(get_train_data(class2_file,col_names,bci_file))\n",
    "    class1_data = np.concatenate(class1_data)\n",
    "    class2_data = np.concatenate(class2_data)\n",
    "    minLen = min(len(class1_data),len(class2_data))\n",
    "    return class1_data[:minLen],class2_data[:minLen]"
   ]
  },
  {
   "cell_type": "code",
   "execution_count": 12,
   "id": "8fb6dbbe-4ef9-4d0c-996c-066c503744f7",
   "metadata": {},
   "outputs": [],
   "source": [
    "def get_session_data(sess_num, bci_file, snip_len):\n",
    "    data = []\n",
    "    #for fi in mi_files[5*sess_num:5*(sess_num+1)-1]:\n",
    "    for fi in mi_files[7*sess_num:7*(sess_num)+4]:\n",
    "        print(fi)\n",
    "        data.append(get_train_data(fi, col_names, bci_file))\n",
    "    class1 = np.concatenate(data)\n",
    "    class2 = get_train_data(mi_files[7*(sess_num)+4], col_names, bci_file,snip_len)\n",
    "    return class1, class2"
   ]
  },
  {
   "cell_type": "code",
   "execution_count": 35,
   "id": "3ef44bb8-0b73-4268-b75d-f457d5935970",
   "metadata": {},
   "outputs": [],
   "source": [
    "def get_all_data(num_sessions, bci_file, snip_len=1.5):\n",
    "    mi = []\n",
    "    nomi = []\n",
    "    for i in range(num_sessions):\n",
    "        class1, class2 = get_session_data(i, bci_file, snip_len)\n",
    "        mi.append(class1)\n",
    "        nomi.append(class2)\n",
    "    mi = np.concatenate(mi)\n",
    "    nomi = np.concatenate(nomi)\n",
    "    minLen = min(len(mi), len(nomi))\n",
    "    mi = mi[:minLen]\n",
    "    nomi = nomi[:minLen]\n",
    "    return mi, nomi "
   ]
  },
  {
   "cell_type": "code",
   "execution_count": 207,
   "id": "28c107d8-1eea-469b-821c-7ecde45af25f",
   "metadata": {},
   "outputs": [],
   "source": [
    "right, nomi = compare_classes('rf','no',bci2_files[1])"
   ]
  },
  {
   "cell_type": "code",
   "execution_count": 208,
   "id": "d606341e-82cf-49a4-9fce-e103e4ab804e",
   "metadata": {},
   "outputs": [
    {
     "data": {
      "text/plain": [
       "((8, 8, 875), (8, 8, 875))"
      ]
     },
     "execution_count": 208,
     "metadata": {},
     "output_type": "execute_result"
    }
   ],
   "source": [
    "right.shape, left.shape"
   ]
  },
  {
   "cell_type": "code",
   "execution_count": 147,
   "id": "221fe4b7-5998-4f01-bb36-83343513232e",
   "metadata": {},
   "outputs": [
    {
     "name": "stdout",
     "output_type": "stream",
     "text": [
      "DataCollection/outputs/MI/sess2/2023-03-10T14:10:37.683875_MI_MILF.txt\n",
      "DataCollection/outputs/MI/sess2/2023-03-10T14:10:37.683875_MI_MIRF.txt\n",
      "DataCollection/outputs/MI/sess2/2023-03-10T14:10:37.683875_MI_MISw.txt\n",
      "DataCollection/outputs/MI/sess2/2023-03-10T14:10:37.683875_MI_MITy.txt\n",
      "DataCollection/outputs/MI/sess2/2023-03-10T14:51:16.448841_MI_MILF.txt\n",
      "DataCollection/outputs/MI/sess2/2023-03-10T14:51:16.448841_MI_MIRF.txt\n",
      "DataCollection/outputs/MI/sess2/2023-03-10T14:51:16.448841_MI_MISw.txt\n",
      "DataCollection/outputs/MI/sess2/2023-03-10T14:51:16.448841_MI_MITy.txt\n"
     ]
    }
   ],
   "source": [
    "mi, nomi = get_all_data(2, bci2_files[1],snip_len=1)"
   ]
  },
  {
   "cell_type": "code",
   "execution_count": 148,
   "id": "9abababb-940f-4598-ad05-ee990f70a0b1",
   "metadata": {},
   "outputs": [
    {
     "data": {
      "text/plain": [
       "((32, 8, 875), (32, 8, 1000))"
      ]
     },
     "execution_count": 148,
     "metadata": {},
     "output_type": "execute_result"
    }
   ],
   "source": [
    "mi.shape, nomi.shape"
   ]
  },
  {
   "cell_type": "code",
   "execution_count": 149,
   "id": "4d6f7c78-bea5-4fb0-a556-331db61c3922",
   "metadata": {},
   "outputs": [],
   "source": [
    "def get_train_test(mi, nomi, split=0.8):\n",
    "    np.random.shuffle(mi)\n",
    "    np.random.shuffle(nomi)\n",
    "    splitIdx = int(split*len(mi))\n",
    "    train_mi = mi[:splitIdx]\n",
    "    test_mi = mi[splitIdx:]\n",
    "    train_nomi = nomi[:splitIdx]\n",
    "    test_nomi = nomi[splitIdx:]\n",
    "    return train_mi, train_nomi, test_mi, test_nomi"
   ]
  },
  {
   "cell_type": "code",
   "execution_count": 162,
   "id": "2051c781-8c3d-4616-80e2-d3fc21b37b78",
   "metadata": {},
   "outputs": [],
   "source": [
    "def get_results(train_mi, train_nomi, test_mi, test_nomi,show_results=True):\n",
    "    numFilt = 8\n",
    "    filters, clf = CCACSP.train(train_mi, train_nomi, numFilt)\n",
    "    mi_res = []\n",
    "    nomi_res = []\n",
    "    for i in range(len(test_mi)):\n",
    "        mi_result = CCACSP.test(test_mi[i], filters, clf)\n",
    "        mi_res.append(mi_result[0])\n",
    "        #print(\"True class: MI, Predicted: {}\".format(mi_result[0]))\n",
    "        nomi_result = CCACSP.test(test_nomi[i], filters, clf)\n",
    "        nomi_res.append(nomi_result[0])\n",
    "        #print(\"True class: NOMI, Predicted: {}\".format(nomi_result[0]))\n",
    "    decode = {0: 'MI', 1:'NOMI'}\n",
    "    mi_print = [decode[res] for res in mi_res]\n",
    "    nomi_print = [decode[res] for res in nomi_res]\n",
    "    mi_acc = np.sum([1-mi for mi in mi_res]) / len(mi_res)\n",
    "    nomi_acc = np.sum([nomi for nomi in nomi_res]) / len(nomi_res)\n",
    "    acc = (mi_acc + nomi_acc) / 2\n",
    "    #(np.sum([1-mi for mi in mi_res]) + np.sum([nomi for nomi in nomi_res])) / (len(mi_res) + len(nomi_res))\n",
    "    if show_results:\n",
    "        print('MI results: ', mi_print, 'FNR: {:.3f}'.format(1-mi_acc))\n",
    "        print('NOMI results: ', nomi_print, 'FPR: {:.3f}'.format(1-nomi_acc))\n",
    "        print('Accuracy: {:.3f}'.format(acc))\n",
    "    return acc"
   ]
  },
  {
   "cell_type": "code",
   "execution_count": 203,
   "id": "46c91f7a-10c3-4f85-b1d6-825490767ce5",
   "metadata": {},
   "outputs": [
    {
     "name": "stdout",
     "output_type": "stream",
     "text": [
      "MI results:  ['MI', 'NOMI', 'MI', 'MI'] FNR: 0.250\n",
      "NOMI results:  ['NOMI', 'MI', 'MI', 'MI'] FPR: 0.750\n",
      "Accuracy: 0.500\n"
     ]
    }
   ],
   "source": [
    "split = 0.6\n",
    "train_mi, train_nomi, test_mi, test_nomi = get_train_test(right, left, split=split)\n",
    "acc = get_results(train_mi, train_nomi, test_mi, test_nomi)"
   ]
  },
  {
   "cell_type": "code",
   "execution_count": 197,
   "id": "80ca7f66-b609-43af-96a5-64611ed372ae",
   "metadata": {},
   "outputs": [],
   "source": [
    "def get_average_results(mi, nomi, split, num_tests):\n",
    "    accs = []\n",
    "    for i in range(num_tests):\n",
    "        train_mi, train_nomi, test_mi, test_nomi = get_train_test(mi, nomi, split)\n",
    "        accs.append(get_results(train_mi, train_nomi, test_mi, test_nomi, False))\n",
    "    print('Average accuracy: {:.3f}'.format(np.mean(accs)))"
   ]
  },
  {
   "cell_type": "code",
   "execution_count": 209,
   "id": "4d8af3f4-abf1-4860-b1b3-db3f737c7f31",
   "metadata": {},
   "outputs": [
    {
     "name": "stdout",
     "output_type": "stream",
     "text": [
      "Average accuracy: 0.537\n"
     ]
    }
   ],
   "source": [
    "get_average_results(right, nomi, split=0.8, num_tests=100)"
   ]
  },
  {
   "cell_type": "code",
   "execution_count": 54,
   "id": "1581f766-69bc-4d8a-b061-99882d15a719",
   "metadata": {},
   "outputs": [],
   "source": [
    "numFilt = 8\n",
    "filers, clf = CCACSP.train(mi, nomi, numFilt)"
   ]
  },
  {
   "cell_type": "code",
   "execution_count": 120,
   "id": "484c283e-5b8e-44b3-ad6d-0c8e9333ed5a",
   "metadata": {},
   "outputs": [
    {
     "name": "stdout",
     "output_type": "stream",
     "text": [
      "DataCollection/outputs/MI/sess2/2023-03-10T14:51:16.448841_MI_MILF.txt\n",
      "DataCollection/outputs/MI/sess2/2023-03-10T14:51:16.448841_MI_MIRF.txt\n",
      "DataCollection/outputs/MI/sess2/2023-03-10T14:51:16.448841_MI_MISw.txt\n",
      "DataCollection/outputs/MI/sess2/2023-03-10T14:51:16.448841_MI_MITy.txt\n"
     ]
    }
   ],
   "source": [
    "mi_test, nomi_test = get_all_data(1, bci2_files[1])"
   ]
  },
  {
   "cell_type": "code",
   "execution_count": 121,
   "id": "d7b08a1f-b312-40a1-a377-49611e97123f",
   "metadata": {},
   "outputs": [],
   "source": [
    "nomi_test = nomi_test[:12]"
   ]
  },
  {
   "cell_type": "code",
   "execution_count": 122,
   "id": "0029c63e-7084-42bb-8e20-50331558ca90",
   "metadata": {},
   "outputs": [
    {
     "data": {
      "text/plain": [
       "((12, 8, 1250), (12, 8, 1250))"
      ]
     },
     "execution_count": 122,
     "metadata": {},
     "output_type": "execute_result"
    }
   ],
   "source": [
    "mi_test.shape, nomi_test.shape"
   ]
  },
  {
   "cell_type": "code",
   "execution_count": 123,
   "id": "519a5f4e-60ba-47db-a02c-348a9b62fc85",
   "metadata": {},
   "outputs": [
    {
     "name": "stdout",
     "output_type": "stream",
     "text": [
      "True class: MI, Predicted: 0.0\n",
      "True class: NOMI, Predicted: 1.0\n",
      "True class: MI, Predicted: 0.0\n",
      "True class: NOMI, Predicted: 1.0\n",
      "True class: MI, Predicted: 0.0\n",
      "True class: NOMI, Predicted: 1.0\n",
      "True class: MI, Predicted: 0.0\n",
      "True class: NOMI, Predicted: 1.0\n",
      "True class: MI, Predicted: 0.0\n",
      "True class: NOMI, Predicted: 1.0\n",
      "True class: MI, Predicted: 0.0\n",
      "True class: NOMI, Predicted: 1.0\n",
      "True class: MI, Predicted: 0.0\n",
      "True class: NOMI, Predicted: 1.0\n",
      "True class: MI, Predicted: 0.0\n",
      "True class: NOMI, Predicted: 1.0\n",
      "True class: MI, Predicted: 0.0\n",
      "True class: NOMI, Predicted: 1.0\n",
      "True class: MI, Predicted: 1.0\n",
      "True class: NOMI, Predicted: 1.0\n",
      "True class: MI, Predicted: 0.0\n",
      "True class: NOMI, Predicted: 1.0\n",
      "True class: MI, Predicted: 1.0\n",
      "True class: NOMI, Predicted: 1.0\n"
     ]
    }
   ],
   "source": [
    "mi_res = []\n",
    "nomi_res = []\n",
    "for i in range(mi_test.shape[0]):\n",
    "    mi_result = CCACSP.test(mi_test[i], filers, clf)\n",
    "    mi_res.append(mi_result)\n",
    "    print(\"True class: MI, Predicted: {}\".format(mi_result[0]))\n",
    "    nomi_result = CCACSP.test(nomi_test[i], filers, clf)\n",
    "    nomi_res.append(nomi_result)\n",
    "    print(\"True class: NOMI, Predicted: {}\".format(nomi_result[0]))"
   ]
  },
  {
   "cell_type": "code",
   "execution_count": 124,
   "id": "e17feb04-4b67-4983-b924-02967fe57f38",
   "metadata": {},
   "outputs": [
    {
     "data": {
      "text/plain": [
       "0.16666666666666666"
      ]
     },
     "execution_count": 124,
     "metadata": {},
     "output_type": "execute_result"
    }
   ],
   "source": [
    "np.mean(mi_res)"
   ]
  },
  {
   "cell_type": "code",
   "execution_count": 125,
   "id": "4d8fefb5-870a-4e13-9573-eddc1322deb0",
   "metadata": {},
   "outputs": [
    {
     "data": {
      "text/plain": [
       "1.0"
      ]
     },
     "execution_count": 125,
     "metadata": {},
     "output_type": "execute_result"
    }
   ],
   "source": [
    "np.mean(nomi_res)"
   ]
  },
  {
   "cell_type": "code",
   "execution_count": null,
   "id": "0cc0d4e8-6800-4dc1-ab59-3d19a41abf3e",
   "metadata": {},
   "outputs": [],
   "source": []
  },
  {
   "cell_type": "code",
   "execution_count": null,
   "id": "edc33c34-d0a1-42e9-966a-92f77dd77bb5",
   "metadata": {},
   "outputs": [],
   "source": []
  }
 ],
 "metadata": {
  "kernelspec": {
   "display_name": "Python 3 (ipykernel)",
   "language": "python",
   "name": "python3"
  },
  "language_info": {
   "codemirror_mode": {
    "name": "ipython",
    "version": 3
   },
   "file_extension": ".py",
   "mimetype": "text/x-python",
   "name": "python",
   "nbconvert_exporter": "python",
   "pygments_lexer": "ipython3",
   "version": "3.9.7"
  }
 },
 "nbformat": 4,
 "nbformat_minor": 5
}
