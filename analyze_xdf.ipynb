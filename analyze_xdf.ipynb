{
 "cells": [
  {
   "cell_type": "markdown",
   "id": "902bcede",
   "metadata": {},
   "source": [
    "We'll go through an analyze an XDF using some util functions provided."
   ]
  },
  {
   "cell_type": "code",
   "execution_count": 31,
   "id": "32b37b54",
   "metadata": {},
   "outputs": [],
   "source": [
    "import numpy as np\n",
    "import matplotlib.pyplot as plt\n",
    "import eeg_utils as ez\n",
    "from scipy import signal\n",
    "from preprocessing import *\n",
    "from plotting import *\n",
    "from classify import *\n",
    "from import_data import *\n",
    "data_dir = './DataCollection/outputs/Ollie_SSVEP/'"
   ]
  },
  {
   "cell_type": "code",
   "execution_count": 2,
   "id": "75c1ff59-aee1-4a98-913b-3b546a7b8eea",
   "metadata": {},
   "outputs": [
    {
     "data": {
      "text/plain": [
       "['./DataCollection/outputs/Ollie_SSVEP/joelle_data_trial_000.txt',\n",
       " './DataCollection/outputs/Ollie_SSVEP/joelle_good_10.8Hz_000.xdf',\n",
       " './DataCollection/outputs/Ollie_SSVEP/joelle_good_10Hz_000.xdf',\n",
       " './DataCollection/outputs/Ollie_SSVEP/joelle_good_11.6Hz_000.xdf',\n",
       " './DataCollection/outputs/Ollie_SSVEP/joelle_good_12.4Hz_000.xdf',\n",
       " './DataCollection/outputs/Ollie_SSVEP/joelle_good_13.2Hz_000.xdf',\n",
       " './DataCollection/outputs/Ollie_SSVEP/joelle_good_14.8Hz_000.xdf',\n",
       " './DataCollection/outputs/Ollie_SSVEP/joelle_good_14Hz_000.xdf',\n",
       " './DataCollection/outputs/Ollie_SSVEP/joelle_good_15.6Hz_000.xdf',\n",
       " './DataCollection/outputs/Ollie_SSVEP/joelle_good_8.4Hz_000.xdf',\n",
       " './DataCollection/outputs/Ollie_SSVEP/joelle_good_8.4Hz_001.xdf',\n",
       " './DataCollection/outputs/Ollie_SSVEP/joelle_good_9.2Hz_000.xdf',\n",
       " './DataCollection/outputs/Ollie_SSVEP/joelle_meta_trial_000.txt']"
      ]
     },
     "execution_count": 2,
     "metadata": {},
     "output_type": "execute_result"
    }
   ],
   "source": [
    "files = get_files(data_dir)\n",
    "files"
   ]
  },
  {
   "cell_type": "code",
   "execution_count": 3,
   "id": "f0dcc3be",
   "metadata": {},
   "outputs": [
    {
     "name": "stdout",
     "output_type": "stream",
     "text": [
      "WARNING: Data has 8 channels, but no channel descriptions found. Creating generic channel info.\n",
      "dict_keys(['eeg_data', 'eeg_time', 'event_data', 'event_time', 'channels', 'fs', 'fs_i'])\n"
     ]
    }
   ],
   "source": [
    "fname = files[2]\n",
    "raw_eeg = ez.loadxdf(fname)\n",
    "fs = raw_eeg['fs']\n",
    "# Let's print out raw_eeg's keys (it's a dict)\n",
    "print(raw_eeg.keys())"
   ]
  },
  {
   "cell_type": "markdown",
   "id": "7b54f573",
   "metadata": {},
   "source": [
    "Our raw data is stored in `raw_eeg['eeg_data']` so let's check out that shape"
   ]
  },
  {
   "cell_type": "code",
   "execution_count": 4,
   "id": "d7f681e5",
   "metadata": {},
   "outputs": [
    {
     "name": "stdout",
     "output_type": "stream",
     "text": [
      "Shape of our data is: (20540, 8)\n"
     ]
    }
   ],
   "source": [
    "print(f\"Shape of our data is: {raw_eeg['eeg_data'].shape}\")"
   ]
  },
  {
   "cell_type": "markdown",
   "id": "8be4de90",
   "metadata": {},
   "source": [
    "We can epoch to particular events (such as `'0'`) using the function `epoch` within `eeg_utils`:"
   ]
  },
  {
   "cell_type": "code",
   "execution_count": 5,
   "id": "92b55f66-e468-4a3f-8f82-6dee606a976f",
   "metadata": {},
   "outputs": [
    {
     "name": "stdout",
     "output_type": "stream",
     "text": [
      "Here are the events we have in our data: [['10'], ['11'], ['1'], ['0'], ['1'], ['0'], ['1'], ['0'], ['1'], ['0'], ['1'], ['0'], ['1'], ['0'], ['1'], ['0'], ['1'], ['0'], ['1'], ['0'], ['1'], ['0'], ['1'], ['0'], ['1'], ['0'], ['1'], ['0'], ['1'], ['0'], ['1'], ['0']]\n"
     ]
    }
   ],
   "source": [
    "print(f\"Here are the events we have in our data: {raw_eeg['event_data']}\")"
   ]
  },
  {
   "cell_type": "code",
   "execution_count": 6,
   "id": "afbb48f6-4d47-485d-8f1a-1c13993119a0",
   "metadata": {},
   "outputs": [],
   "source": [
    "times = raw_eeg['event_time']"
   ]
  },
  {
   "cell_type": "code",
   "execution_count": 7,
   "id": "66b64c9a-92c5-4306-978d-e524b4c630c2",
   "metadata": {},
   "outputs": [
    {
     "data": {
      "text/plain": [
       "array([2234.2485041 , 2236.24769609, 2240.24761086, 2243.24851355,\n",
       "       2244.24204384, 2247.24185032, 2248.10264452, 2251.101971  ,\n",
       "       2251.97682899, 2254.97685688, 2255.82396137, 2258.82414655,\n",
       "       2259.60169825, 2262.60189183, 2263.44924823, 2266.45022791,\n",
       "       2267.28261551, 2270.28237539, 2271.15109378, 2274.15041426,\n",
       "       2274.92105516, 2277.92113104, 2278.85169464, 2281.85186022,\n",
       "       2282.72099251, 2285.7198196 , 2286.56721689, 2289.56791787,\n",
       "       2290.55355677, 2293.55305815, 2294.49748775, 2297.49806243])"
      ]
     },
     "execution_count": 7,
     "metadata": {},
     "output_type": "execute_result"
    }
   ],
   "source": [
    "times"
   ]
  },
  {
   "cell_type": "code",
   "execution_count": 8,
   "id": "9ecd63e8-26f7-48a9-8535-f37d79b64f9f",
   "metadata": {},
   "outputs": [
    {
     "data": {
      "text/plain": [
       "250"
      ]
     },
     "execution_count": 8,
     "metadata": {},
     "output_type": "execute_result"
    }
   ],
   "source": [
    "fs = raw_eeg['fs']\n",
    "fs"
   ]
  },
  {
   "cell_type": "code",
   "execution_count": 9,
   "id": "064b8c61",
   "metadata": {},
   "outputs": [],
   "source": [
    "epoch_s = -100 # 100 ms before stimulus onset\n",
    "epoch_e = 5000  # 600 ms after stimulus onset\n",
    "\n",
    "erp_0 = ez.epoch(raw_eeg, epoch_s, epoch_e, '0')"
   ]
  },
  {
   "cell_type": "markdown",
   "id": "8a2b308a",
   "metadata": {},
   "source": [
    "Let's examine the structure of `erp_0` which is also a dict, but has a different structure than `raw_eeg`:"
   ]
  },
  {
   "cell_type": "code",
   "execution_count": 10,
   "id": "9f0bb92d",
   "metadata": {},
   "outputs": [
    {
     "name": "stdout",
     "output_type": "stream",
     "text": [
      "dict_keys(['bin_data', 'bin_times', 'events', 'fs', 'channels'])\n"
     ]
    }
   ],
   "source": [
    "print(erp_0.keys())"
   ]
  },
  {
   "cell_type": "markdown",
   "id": "4844b44b",
   "metadata": {},
   "source": [
    "Our EEG data is stored in `erp_0['bin_data']` and has shape $\\mathrm{epochs} \\times \\mathrm{samples} \\times \\mathrm{channels}$"
   ]
  },
  {
   "cell_type": "code",
   "execution_count": 11,
   "id": "6eb2ec92",
   "metadata": {},
   "outputs": [
    {
     "name": "stdout",
     "output_type": "stream",
     "text": [
      "(16, 1275, 8)\n"
     ]
    }
   ],
   "source": [
    "print(erp_0['bin_data'].shape)"
   ]
  },
  {
   "cell_type": "markdown",
   "id": "8e06e4b2",
   "metadata": {},
   "source": [
    "So we have:\n",
    "- 16 epochs\n",
    "- 1275 samples per epoch\n",
    "- 8 channels per sample\n",
    "\n",
    "Let's the first epoch, all samples, first channel"
   ]
  },
  {
   "cell_type": "code",
   "execution_count": 12,
   "id": "30f8bbcc-1254-475e-b288-b880ca686398",
   "metadata": {},
   "outputs": [],
   "source": [
    "def make_df(data, col_names, idx=0):\n",
    "    df = pd.DataFrame()\n",
    "    for i,cn in enumerate(col_names):\n",
    "        df[cn] = data[idx,:,i]\n",
    "    return df"
   ]
  },
  {
   "cell_type": "code",
   "execution_count": 13,
   "id": "3ed247ff-6db3-4174-9fd0-191eb17f015a",
   "metadata": {},
   "outputs": [],
   "source": [
    "col_names = ['Fp1','O1', 'O2','C3','C4','P3','P4','Pz']"
   ]
  },
  {
   "cell_type": "code",
   "execution_count": 15,
   "id": "f3c6afe7-2510-4569-ba32-c7e071154e20",
   "metadata": {},
   "outputs": [],
   "source": [
    "eeg = make_df(erp_0['bin_data'], col_names)\n",
    "filt_eeg = filter_eeg(eeg, Fs=fs, low=0.1, high=100, notch_freq=60.0)"
   ]
  },
  {
   "cell_type": "code",
   "execution_count": 16,
   "id": "0a97dfb9-ad91-4a54-bfb9-77442162e250",
   "metadata": {},
   "outputs": [
    {
     "data": {
      "text/html": [
       "<div>\n",
       "<style scoped>\n",
       "    .dataframe tbody tr th:only-of-type {\n",
       "        vertical-align: middle;\n",
       "    }\n",
       "\n",
       "    .dataframe tbody tr th {\n",
       "        vertical-align: top;\n",
       "    }\n",
       "\n",
       "    .dataframe thead th {\n",
       "        text-align: right;\n",
       "    }\n",
       "</style>\n",
       "<table border=\"1\" class=\"dataframe\">\n",
       "  <thead>\n",
       "    <tr style=\"text-align: right;\">\n",
       "      <th></th>\n",
       "      <th>Fp1</th>\n",
       "      <th>O1</th>\n",
       "      <th>O2</th>\n",
       "      <th>C3</th>\n",
       "      <th>C4</th>\n",
       "      <th>P3</th>\n",
       "      <th>P4</th>\n",
       "      <th>Pz</th>\n",
       "    </tr>\n",
       "  </thead>\n",
       "  <tbody>\n",
       "    <tr>\n",
       "      <th>0</th>\n",
       "      <td>15965.065265</td>\n",
       "      <td>-230.123894</td>\n",
       "      <td>508.136285</td>\n",
       "      <td>-5314.717302</td>\n",
       "      <td>-6965.534509</td>\n",
       "      <td>-4723.031087</td>\n",
       "      <td>-7823.763103</td>\n",
       "      <td>-5597.801033</td>\n",
       "    </tr>\n",
       "    <tr>\n",
       "      <th>1</th>\n",
       "      <td>15955.397599</td>\n",
       "      <td>-219.758757</td>\n",
       "      <td>512.261125</td>\n",
       "      <td>-5305.205908</td>\n",
       "      <td>-6966.340877</td>\n",
       "      <td>-4720.172443</td>\n",
       "      <td>-7824.071552</td>\n",
       "      <td>-5595.896816</td>\n",
       "    </tr>\n",
       "    <tr>\n",
       "      <th>2</th>\n",
       "      <td>15958.805297</td>\n",
       "      <td>-226.330226</td>\n",
       "      <td>508.941084</td>\n",
       "      <td>-5301.935585</td>\n",
       "      <td>-6970.141791</td>\n",
       "      <td>-4719.110877</td>\n",
       "      <td>-7827.533562</td>\n",
       "      <td>-5596.790624</td>\n",
       "    </tr>\n",
       "    <tr>\n",
       "      <th>3</th>\n",
       "      <td>15962.145221</td>\n",
       "      <td>-222.795039</td>\n",
       "      <td>510.104667</td>\n",
       "      <td>-5308.558120</td>\n",
       "      <td>-6970.994770</td>\n",
       "      <td>-4719.658083</td>\n",
       "      <td>-7827.831665</td>\n",
       "      <td>-5596.746471</td>\n",
       "    </tr>\n",
       "    <tr>\n",
       "      <th>4</th>\n",
       "      <td>15971.429811</td>\n",
       "      <td>-219.829132</td>\n",
       "      <td>510.309019</td>\n",
       "      <td>-5309.736775</td>\n",
       "      <td>-6967.931880</td>\n",
       "      <td>-4722.070039</td>\n",
       "      <td>-7825.339742</td>\n",
       "      <td>-5596.417371</td>\n",
       "    </tr>\n",
       "    <tr>\n",
       "      <th>...</th>\n",
       "      <td>...</td>\n",
       "      <td>...</td>\n",
       "      <td>...</td>\n",
       "      <td>...</td>\n",
       "      <td>...</td>\n",
       "      <td>...</td>\n",
       "      <td>...</td>\n",
       "      <td>...</td>\n",
       "    </tr>\n",
       "    <tr>\n",
       "      <th>1270</th>\n",
       "      <td>16080.693996</td>\n",
       "      <td>-260.606363</td>\n",
       "      <td>534.799191</td>\n",
       "      <td>-5302.615522</td>\n",
       "      <td>-6957.263065</td>\n",
       "      <td>-4711.768861</td>\n",
       "      <td>-7805.423861</td>\n",
       "      <td>-5597.368426</td>\n",
       "    </tr>\n",
       "    <tr>\n",
       "      <th>1271</th>\n",
       "      <td>16060.294686</td>\n",
       "      <td>-260.326092</td>\n",
       "      <td>530.740117</td>\n",
       "      <td>-5305.454272</td>\n",
       "      <td>-6954.602085</td>\n",
       "      <td>-4713.027832</td>\n",
       "      <td>-7805.845210</td>\n",
       "      <td>-5598.058698</td>\n",
       "    </tr>\n",
       "    <tr>\n",
       "      <th>1272</th>\n",
       "      <td>16041.580179</td>\n",
       "      <td>-260.722430</td>\n",
       "      <td>528.941556</td>\n",
       "      <td>-5311.391803</td>\n",
       "      <td>-6954.652693</td>\n",
       "      <td>-4715.164079</td>\n",
       "      <td>-7805.861013</td>\n",
       "      <td>-5598.290031</td>\n",
       "    </tr>\n",
       "    <tr>\n",
       "      <th>1273</th>\n",
       "      <td>16054.734787</td>\n",
       "      <td>-258.383965</td>\n",
       "      <td>522.569295</td>\n",
       "      <td>-5311.583168</td>\n",
       "      <td>-6956.568689</td>\n",
       "      <td>-4710.186110</td>\n",
       "      <td>-7807.369208</td>\n",
       "      <td>-5597.527776</td>\n",
       "    </tr>\n",
       "    <tr>\n",
       "      <th>1274</th>\n",
       "      <td>16055.702236</td>\n",
       "      <td>-262.837516</td>\n",
       "      <td>520.463750</td>\n",
       "      <td>-5304.603458</td>\n",
       "      <td>-6958.744328</td>\n",
       "      <td>-4708.640225</td>\n",
       "      <td>-7808.916210</td>\n",
       "      <td>-5597.991610</td>\n",
       "    </tr>\n",
       "  </tbody>\n",
       "</table>\n",
       "<p>1275 rows × 8 columns</p>\n",
       "</div>"
      ],
      "text/plain": [
       "               Fp1          O1          O2           C3           C4  \\\n",
       "0     15965.065265 -230.123894  508.136285 -5314.717302 -6965.534509   \n",
       "1     15955.397599 -219.758757  512.261125 -5305.205908 -6966.340877   \n",
       "2     15958.805297 -226.330226  508.941084 -5301.935585 -6970.141791   \n",
       "3     15962.145221 -222.795039  510.104667 -5308.558120 -6970.994770   \n",
       "4     15971.429811 -219.829132  510.309019 -5309.736775 -6967.931880   \n",
       "...            ...         ...         ...          ...          ...   \n",
       "1270  16080.693996 -260.606363  534.799191 -5302.615522 -6957.263065   \n",
       "1271  16060.294686 -260.326092  530.740117 -5305.454272 -6954.602085   \n",
       "1272  16041.580179 -260.722430  528.941556 -5311.391803 -6954.652693   \n",
       "1273  16054.734787 -258.383965  522.569295 -5311.583168 -6956.568689   \n",
       "1274  16055.702236 -262.837516  520.463750 -5304.603458 -6958.744328   \n",
       "\n",
       "               P3           P4           Pz  \n",
       "0    -4723.031087 -7823.763103 -5597.801033  \n",
       "1    -4720.172443 -7824.071552 -5595.896816  \n",
       "2    -4719.110877 -7827.533562 -5596.790624  \n",
       "3    -4719.658083 -7827.831665 -5596.746471  \n",
       "4    -4722.070039 -7825.339742 -5596.417371  \n",
       "...           ...          ...          ...  \n",
       "1270 -4711.768861 -7805.423861 -5597.368426  \n",
       "1271 -4713.027832 -7805.845210 -5598.058698  \n",
       "1272 -4715.164079 -7805.861013 -5598.290031  \n",
       "1273 -4710.186110 -7807.369208 -5597.527776  \n",
       "1274 -4708.640225 -7808.916210 -5597.991610  \n",
       "\n",
       "[1275 rows x 8 columns]"
      ]
     },
     "execution_count": 16,
     "metadata": {},
     "output_type": "execute_result"
    }
   ],
   "source": [
    "filt_eeg"
   ]
  },
  {
   "cell_type": "code",
   "execution_count": 17,
   "id": "a3c6ec5f-9f12-414c-9355-65d5cde5807c",
   "metadata": {},
   "outputs": [
    {
     "data": {
      "image/png": "[encoded data removed]",
      "text/plain": [
       "<Figure size 432x288 with 1 Axes>"
      ]
     },
     "metadata": {
      "needs_background": "light"
     },
     "output_type": "display_data"
    }
   ],
   "source": [
    "plot_channel(filt_eeg, 'O1', fs, start=0, end=5)"
   ]
  },
  {
   "cell_type": "code",
   "execution_count": 18,
   "id": "28f81c2a-6da2-4d88-9053-844477d1fb0e",
   "metadata": {},
   "outputs": [],
   "source": [
    "power = power_spectrum(filt_eeg, fs)"
   ]
  },
  {
   "cell_type": "code",
   "execution_count": 22,
   "id": "6fce4eed-e6b5-4ff3-b4a1-4aa9d148e25e",
   "metadata": {},
   "outputs": [
    {
     "data": {
      "image/png": "[encoded data removed]",
      "text/plain": [
       "<Figure size 432x288 with 1 Axes>"
      ]
     },
     "metadata": {
      "needs_background": "light"
     },
     "output_type": "display_data"
    }
   ],
   "source": [
    "plot_power(power,'O1',20)"
   ]
  },
  {
   "cell_type": "code",
   "execution_count": 25,
   "id": "814dc9bc-fdd7-4c34-a498-e0e4f1e54d8a",
   "metadata": {},
   "outputs": [
    {
     "data": {
      "text/plain": [
       "(0.0, 20.0)"
      ]
     },
     "execution_count": 25,
     "metadata": {},
     "output_type": "execute_result"
    },
    {
     "data": {
      "image/png": "[encoded data removed]",
      "text/plain": [
       "<Figure size 432x288 with 1 Axes>"
      ]
     },
     "metadata": {
      "needs_background": "light"
     },
     "output_type": "display_data"
    }
   ],
   "source": [
    "O1 = list(filt_eeg['O1'])\n",
    "f,p = signal.periodogram(O1, fs)\n",
    "plt.plot(f,p)\n",
    "plt.xlim(0,20)\n",
    "#plt.ylim(0,100)"
   ]
  },
  {
   "cell_type": "code",
   "execution_count": 29,
   "id": "372b3a40-4072-4760-bfbc-16168c0e7ff9",
   "metadata": {},
   "outputs": [
    {
     "name": "stdout",
     "output_type": "stream",
     "text": [
      "11.600000000000003\n",
      "10.000000000000002\n",
      "10.000000000000002\n",
      "11.600000000000003\n",
      "10.000000000000002\n",
      "10.000000000000002\n",
      "10.000000000000002\n",
      "10.000000000000002\n",
      "10.000000000000002\n",
      "10.000000000000002\n",
      "12.400000000000004\n",
      "10.800000000000002\n",
      "10.800000000000002\n",
      "10.000000000000002\n",
      "10.000000000000002\n",
      "10.800000000000002\n",
      "------------------\n",
      "accuracy: 0.0625\n"
     ]
    }
   ],
   "source": [
    "count = 0 \n",
    "for idx in range(16):\n",
    "    eeg = make_df(erp_0['bin_data'], col_names, idx)\n",
    "    filt_eeg = filter_eeg(eeg, Fs=fs, low=0.1, high=100, notch_freq=60.0)\n",
    "    O1 = list(filt_eeg['O1'])\n",
    "    f,p = signal.periodogram(O1, fs)\n",
    "    df = f[1]-f[0]\n",
    "    freqs = np.arange(8.4,16,0.8)\n",
    "    fv = calc_featvec(p, df, freqs, band_width=0.4, num_harmonics=1)\n",
    "    pred = pick_freq(fv, freqs)\n",
    "    if pred == 12.400000000000004:\n",
    "        count += 1\n",
    "    print(pred)\n",
    "print('------------------')\n",
    "print(\"accuracy: \" + str(count/16))\n"
   ]
  },
  {
   "cell_type": "code",
   "execution_count": null,
   "id": "936496de-bcb9-4227-9ef6-31a79f28813f",
   "metadata": {},
   "outputs": [],
   "source": []
  }
 ],
 "metadata": {
  "kernelspec": {
   "display_name": "Python 3 (ipykernel)",
   "language": "python",
   "name": "python3"
  },
  "language_info": {
   "codemirror_mode": {
    "name": "ipython",
    "version": 3
   },
   "file_extension": ".py",
   "mimetype": "text/x-python",
   "name": "python",
   "nbconvert_exporter": "python",
   "pygments_lexer": "ipython3",
   "version": "3.9.7"
  }
 },
 "nbformat": 4,
 "nbformat_minor": 5
}
