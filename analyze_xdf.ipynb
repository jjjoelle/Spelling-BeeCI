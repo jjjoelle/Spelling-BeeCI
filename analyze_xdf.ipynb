{
 "cells": [
  {
   "cell_type": "markdown",
   "id": "902bcede",
   "metadata": {},
   "source": [
    "We'll go through an analyze an XDF using some util functions provided."
   ]
  },
  {
   "cell_type": "code",
   "execution_count": 36,
   "id": "32b37b54",
   "metadata": {},
   "outputs": [],
   "source": [
    "import numpy as np\n",
    "import matplotlib.pyplot as plt\n",
    "import eeg_utils as ez\n",
    "from scipy import signal\n",
    "from preprocessing import *\n",
    "from plotting import *\n",
    "from classify import *\n",
    "from import_data import *\n",
    "data_dir = './DataCollection/outputs/Ollie_SSVEP/'"
   ]
  },
  {
   "cell_type": "code",
   "execution_count": 37,
   "id": "75c1ff59-aee1-4a98-913b-3b546a7b8eea",
   "metadata": {},
   "outputs": [
    {
     "data": {
      "text/plain": [
       "['./DataCollection/outputs/Ollie_SSVEP/joelle_data_trial_000.txt',\n",
       " './DataCollection/outputs/Ollie_SSVEP/joelle_good_10.8Hz_000.xdf',\n",
       " './DataCollection/outputs/Ollie_SSVEP/joelle_good_10Hz_000.xdf',\n",
       " './DataCollection/outputs/Ollie_SSVEP/joelle_good_11.6Hz_000.xdf',\n",
       " './DataCollection/outputs/Ollie_SSVEP/joelle_good_12.4Hz_000.xdf',\n",
       " './DataCollection/outputs/Ollie_SSVEP/joelle_good_13.2Hz_000.xdf',\n",
       " './DataCollection/outputs/Ollie_SSVEP/joelle_good_14.8Hz_000.xdf',\n",
       " './DataCollection/outputs/Ollie_SSVEP/joelle_good_14Hz_000.xdf',\n",
       " './DataCollection/outputs/Ollie_SSVEP/joelle_good_15.6Hz_000.xdf',\n",
       " './DataCollection/outputs/Ollie_SSVEP/joelle_good_8.4Hz_000.xdf',\n",
       " './DataCollection/outputs/Ollie_SSVEP/joelle_good_8.4Hz_001.xdf',\n",
       " './DataCollection/outputs/Ollie_SSVEP/joelle_good_9.2Hz_000.xdf',\n",
       " './DataCollection/outputs/Ollie_SSVEP/joelle_meta_trial_000.txt']"
      ]
     },
     "execution_count": 37,
     "metadata": {},
     "output_type": "execute_result"
    }
   ],
   "source": [
    "files = get_files(data_dir)\n",
    "files"
   ]
  },
  {
   "cell_type": "code",
   "execution_count": 88,
   "id": "f0dcc3be",
   "metadata": {},
   "outputs": [
    {
     "name": "stdout",
     "output_type": "stream",
     "text": [
      "WARNING: Data has 8 channels, but no channel descriptions found. Creating generic channel info.\n",
      "dict_keys(['eeg_data', 'eeg_time', 'event_data', 'event_time', 'channels', 'fs', 'fs_i'])\n"
     ]
    }
   ],
   "source": [
    "fname = files[2]\n",
    "raw_eeg = ez.loadxdf(fname)\n",
    "fs = raw_eeg['fs']\n",
    "# Let's print out raw_eeg's keys (it's a dict)\n",
    "print(raw_eeg.keys())"
   ]
  },
  {
   "cell_type": "markdown",
   "id": "7b54f573",
   "metadata": {},
   "source": [
    "Our raw data is stored in `raw_eeg['eeg_data']` so let's check out that shape"
   ]
  },
  {
   "cell_type": "code",
   "execution_count": 89,
   "id": "d7f681e5",
   "metadata": {},
   "outputs": [
    {
     "name": "stdout",
     "output_type": "stream",
     "text": [
      "Shape of our data is: (20540, 8)\n"
     ]
    }
   ],
   "source": [
    "print(f\"Shape of our data is: {raw_eeg['eeg_data'].shape}\")"
   ]
  },
  {
   "cell_type": "markdown",
   "id": "8be4de90",
   "metadata": {},
   "source": [
    "We can epoch to particular events (such as `'0'`) using the function `epoch` within `eeg_utils`:"
   ]
  },
  {
   "cell_type": "code",
   "execution_count": 90,
   "id": "92b55f66-e468-4a3f-8f82-6dee606a976f",
   "metadata": {},
   "outputs": [
    {
     "name": "stdout",
     "output_type": "stream",
     "text": [
      "Here are the events we have in our data: [['10'], ['11'], ['1'], ['0'], ['1'], ['0'], ['1'], ['0'], ['1'], ['0'], ['1'], ['0'], ['1'], ['0'], ['1'], ['0'], ['1'], ['0'], ['1'], ['0'], ['1'], ['0'], ['1'], ['0'], ['1'], ['0'], ['1'], ['0'], ['1'], ['0'], ['1'], ['0']]\n"
     ]
    }
   ],
   "source": [
    "print(f\"Here are the events we have in our data: {raw_eeg['event_data']}\")"
   ]
  },
  {
   "cell_type": "code",
   "execution_count": 91,
   "id": "afbb48f6-4d47-485d-8f1a-1c13993119a0",
   "metadata": {},
   "outputs": [],
   "source": [
    "times = raw_eeg['event_time']"
   ]
  },
  {
   "cell_type": "code",
   "execution_count": 92,
   "id": "66b64c9a-92c5-4306-978d-e524b4c630c2",
   "metadata": {},
   "outputs": [
    {
     "data": {
      "text/plain": [
       "array([2234.2485041 , 2236.24769609, 2240.24761086, 2243.24851355,\n",
       "       2244.24204384, 2247.24185032, 2248.10264452, 2251.101971  ,\n",
       "       2251.97682899, 2254.97685688, 2255.82396137, 2258.82414655,\n",
       "       2259.60169825, 2262.60189183, 2263.44924823, 2266.45022791,\n",
       "       2267.28261551, 2270.28237539, 2271.15109378, 2274.15041426,\n",
       "       2274.92105516, 2277.92113104, 2278.85169464, 2281.85186022,\n",
       "       2282.72099251, 2285.7198196 , 2286.56721689, 2289.56791787,\n",
       "       2290.55355677, 2293.55305815, 2294.49748775, 2297.49806243])"
      ]
     },
     "execution_count": 92,
     "metadata": {},
     "output_type": "execute_result"
    }
   ],
   "source": [
    "times"
   ]
  },
  {
   "cell_type": "code",
   "execution_count": 93,
   "id": "9ecd63e8-26f7-48a9-8535-f37d79b64f9f",
   "metadata": {},
   "outputs": [
    {
     "data": {
      "text/plain": [
       "250"
      ]
     },
     "execution_count": 93,
     "metadata": {},
     "output_type": "execute_result"
    }
   ],
   "source": [
    "fs = raw_eeg['fs']\n",
    "fs"
   ]
  },
  {
   "cell_type": "code",
   "execution_count": 94,
   "id": "064b8c61",
   "metadata": {},
   "outputs": [],
   "source": [
    "epoch_s = -100 # 100 ms before stimulus onset\n",
    "epoch_e = 5000  # 600 ms after stimulus onset\n",
    "\n",
    "erp_0 = ez.epoch(raw_eeg, epoch_s, epoch_e, '0')"
   ]
  },
  {
   "cell_type": "markdown",
   "id": "8a2b308a",
   "metadata": {},
   "source": [
    "Let's examine the structure of `erp_0` which is also a dict, but has a different structure than `raw_eeg`:"
   ]
  },
  {
   "cell_type": "code",
   "execution_count": 95,
   "id": "9f0bb92d",
   "metadata": {},
   "outputs": [
    {
     "name": "stdout",
     "output_type": "stream",
     "text": [
      "dict_keys(['bin_data', 'bin_times', 'events', 'fs', 'channels'])\n"
     ]
    }
   ],
   "source": [
    "print(erp_0.keys())"
   ]
  },
  {
   "cell_type": "markdown",
   "id": "4844b44b",
   "metadata": {},
   "source": [
    "Our EEG data is stored in `erp_0['bin_data']` and has shape $\\mathrm{epochs} \\times \\mathrm{samples} \\times \\mathrm{channels}$"
   ]
  },
  {
   "cell_type": "code",
   "execution_count": 96,
   "id": "6eb2ec92",
   "metadata": {},
   "outputs": [
    {
     "name": "stdout",
     "output_type": "stream",
     "text": [
      "(16, 1275, 8)\n"
     ]
    }
   ],
   "source": [
    "print(erp_0['bin_data'].shape)"
   ]
  },
  {
   "cell_type": "markdown",
   "id": "8e06e4b2",
   "metadata": {},
   "source": [
    "So we have:\n",
    "- 16 epochs\n",
    "- 1275 samples per epoch\n",
    "- 8 channels per sample\n",
    "\n",
    "Let's the first epoch, all samples, first channel"
   ]
  },
  {
   "cell_type": "code",
   "execution_count": 97,
   "id": "30f8bbcc-1254-475e-b288-b880ca686398",
   "metadata": {},
   "outputs": [],
   "source": [
    "def make_df(data, col_names, idx=0):\n",
    "    df = pd.DataFrame()\n",
    "    for i,cn in enumerate(col_names):\n",
    "        df[cn] = data[idx,:,i]\n",
    "    return df"
   ]
  },
  {
   "cell_type": "code",
   "execution_count": 98,
   "id": "3ed247ff-6db3-4174-9fd0-191eb17f015a",
   "metadata": {},
   "outputs": [],
   "source": [
    "col_names = ['Fp1','O1', 'O2','C3','C4','P3','P4','Pz']"
   ]
  },
  {
   "cell_type": "code",
   "execution_count": 99,
   "id": "f3c6afe7-2510-4569-ba32-c7e071154e20",
   "metadata": {},
   "outputs": [],
   "source": [
    "eeg = make_df(erp_0['bin_data'], col_names)\n",
    "filt_eeg = filter_eeg(eeg, Fs=fs, low=8, high=20, notch_freq=60.0)"
   ]
  },
  {
   "cell_type": "code",
   "execution_count": 100,
   "id": "0a97dfb9-ad91-4a54-bfb9-77442162e250",
   "metadata": {},
   "outputs": [
    {
     "data": {
      "text/html": [
       "<div>\n",
       "<style scoped>\n",
       "    .dataframe tbody tr th:only-of-type {\n",
       "        vertical-align: middle;\n",
       "    }\n",
       "\n",
       "    .dataframe tbody tr th {\n",
       "        vertical-align: top;\n",
       "    }\n",
       "\n",
       "    .dataframe thead th {\n",
       "        text-align: right;\n",
       "    }\n",
       "</style>\n",
       "<table border=\"1\" class=\"dataframe\">\n",
       "  <thead>\n",
       "    <tr style=\"text-align: right;\">\n",
       "      <th></th>\n",
       "      <th>Fp1</th>\n",
       "      <th>O1</th>\n",
       "      <th>O2</th>\n",
       "      <th>C3</th>\n",
       "      <th>C4</th>\n",
       "      <th>P3</th>\n",
       "      <th>P4</th>\n",
       "      <th>Pz</th>\n",
       "    </tr>\n",
       "  </thead>\n",
       "  <tbody>\n",
       "    <tr>\n",
       "      <th>0</th>\n",
       "      <td>0.158364</td>\n",
       "      <td>-0.002283</td>\n",
       "      <td>0.005040</td>\n",
       "      <td>-0.052719</td>\n",
       "      <td>-0.069094</td>\n",
       "      <td>-0.046850</td>\n",
       "      <td>-0.077607</td>\n",
       "      <td>-0.055527</td>\n",
       "    </tr>\n",
       "    <tr>\n",
       "      <th>1</th>\n",
       "      <td>0.748842</td>\n",
       "      <td>0.560999</td>\n",
       "      <td>-0.646455</td>\n",
       "      <td>0.885825</td>\n",
       "      <td>-0.119145</td>\n",
       "      <td>0.023653</td>\n",
       "      <td>-0.174952</td>\n",
       "      <td>0.211801</td>\n",
       "    </tr>\n",
       "    <tr>\n",
       "      <th>2</th>\n",
       "      <td>1.110893</td>\n",
       "      <td>0.990853</td>\n",
       "      <td>-1.265330</td>\n",
       "      <td>1.750695</td>\n",
       "      <td>-0.226935</td>\n",
       "      <td>0.083018</td>\n",
       "      <td>-0.289755</td>\n",
       "      <td>0.431384</td>\n",
       "    </tr>\n",
       "    <tr>\n",
       "      <th>3</th>\n",
       "      <td>1.067122</td>\n",
       "      <td>1.182603</td>\n",
       "      <td>-1.816349</td>\n",
       "      <td>2.470254</td>\n",
       "      <td>-0.433639</td>\n",
       "      <td>0.122511</td>\n",
       "      <td>-0.432950</td>\n",
       "      <td>0.564636</td>\n",
       "    </tr>\n",
       "    <tr>\n",
       "      <th>4</th>\n",
       "      <td>0.531875</td>\n",
       "      <td>1.082877</td>\n",
       "      <td>-2.260890</td>\n",
       "      <td>2.978516</td>\n",
       "      <td>-0.751020</td>\n",
       "      <td>0.137677</td>\n",
       "      <td>-0.604068</td>\n",
       "      <td>0.589360</td>\n",
       "    </tr>\n",
       "    <tr>\n",
       "      <th>...</th>\n",
       "      <td>...</td>\n",
       "      <td>...</td>\n",
       "      <td>...</td>\n",
       "      <td>...</td>\n",
       "      <td>...</td>\n",
       "      <td>...</td>\n",
       "      <td>...</td>\n",
       "      <td>...</td>\n",
       "    </tr>\n",
       "    <tr>\n",
       "      <th>1270</th>\n",
       "      <td>3.437345</td>\n",
       "      <td>0.650805</td>\n",
       "      <td>6.178031</td>\n",
       "      <td>-2.521346</td>\n",
       "      <td>1.687022</td>\n",
       "      <td>-4.626936</td>\n",
       "      <td>2.692485</td>\n",
       "      <td>0.293544</td>\n",
       "    </tr>\n",
       "    <tr>\n",
       "      <th>1271</th>\n",
       "      <td>3.244992</td>\n",
       "      <td>0.623130</td>\n",
       "      <td>5.759618</td>\n",
       "      <td>-2.361413</td>\n",
       "      <td>1.639032</td>\n",
       "      <td>-4.208617</td>\n",
       "      <td>2.653203</td>\n",
       "      <td>0.255003</td>\n",
       "    </tr>\n",
       "    <tr>\n",
       "      <th>1272</th>\n",
       "      <td>2.550507</td>\n",
       "      <td>0.490262</td>\n",
       "      <td>4.445695</td>\n",
       "      <td>-1.829012</td>\n",
       "      <td>1.284101</td>\n",
       "      <td>-3.200980</td>\n",
       "      <td>2.097879</td>\n",
       "      <td>0.176154</td>\n",
       "    </tr>\n",
       "    <tr>\n",
       "      <th>1273</th>\n",
       "      <td>1.462661</td>\n",
       "      <td>0.268911</td>\n",
       "      <td>2.421419</td>\n",
       "      <td>-1.016054</td>\n",
       "      <td>0.677986</td>\n",
       "      <td>-1.744879</td>\n",
       "      <td>1.126115</td>\n",
       "      <td>0.067990</td>\n",
       "    </tr>\n",
       "    <tr>\n",
       "      <th>1274</th>\n",
       "      <td>0.159263</td>\n",
       "      <td>-0.002607</td>\n",
       "      <td>0.005163</td>\n",
       "      <td>-0.052619</td>\n",
       "      <td>-0.069027</td>\n",
       "      <td>-0.046707</td>\n",
       "      <td>-0.077460</td>\n",
       "      <td>-0.055529</td>\n",
       "    </tr>\n",
       "  </tbody>\n",
       "</table>\n",
       "<p>1275 rows × 8 columns</p>\n",
       "</div>"
      ],
      "text/plain": [
       "           Fp1        O1        O2        C3        C4        P3        P4  \\\n",
       "0     0.158364 -0.002283  0.005040 -0.052719 -0.069094 -0.046850 -0.077607   \n",
       "1     0.748842  0.560999 -0.646455  0.885825 -0.119145  0.023653 -0.174952   \n",
       "2     1.110893  0.990853 -1.265330  1.750695 -0.226935  0.083018 -0.289755   \n",
       "3     1.067122  1.182603 -1.816349  2.470254 -0.433639  0.122511 -0.432950   \n",
       "4     0.531875  1.082877 -2.260890  2.978516 -0.751020  0.137677 -0.604068   \n",
       "...        ...       ...       ...       ...       ...       ...       ...   \n",
       "1270  3.437345  0.650805  6.178031 -2.521346  1.687022 -4.626936  2.692485   \n",
       "1271  3.244992  0.623130  5.759618 -2.361413  1.639032 -4.208617  2.653203   \n",
       "1272  2.550507  0.490262  4.445695 -1.829012  1.284101 -3.200980  2.097879   \n",
       "1273  1.462661  0.268911  2.421419 -1.016054  0.677986 -1.744879  1.126115   \n",
       "1274  0.159263 -0.002607  0.005163 -0.052619 -0.069027 -0.046707 -0.077460   \n",
       "\n",
       "            Pz  \n",
       "0    -0.055527  \n",
       "1     0.211801  \n",
       "2     0.431384  \n",
       "3     0.564636  \n",
       "4     0.589360  \n",
       "...        ...  \n",
       "1270  0.293544  \n",
       "1271  0.255003  \n",
       "1272  0.176154  \n",
       "1273  0.067990  \n",
       "1274 -0.055529  \n",
       "\n",
       "[1275 rows x 8 columns]"
      ]
     },
     "execution_count": 100,
     "metadata": {},
     "output_type": "execute_result"
    }
   ],
   "source": [
    "filt_eeg"
   ]
  },
  {
   "cell_type": "code",
   "execution_count": 101,
   "id": "a3c6ec5f-9f12-414c-9355-65d5cde5807c",
   "metadata": {},
   "outputs": [
    {
     "data": {
      "image/png": "[encoded data removed]",
      "text/plain": [
       "<Figure size 432x288 with 1 Axes>"
      ]
     },
     "metadata": {
      "needs_background": "light"
     },
     "output_type": "display_data"
    }
   ],
   "source": [
    "plot_channel(filt_eeg, 'O1', fs, start=0, end=5)"
   ]
  },
  {
   "cell_type": "code",
   "execution_count": 102,
   "id": "28f81c2a-6da2-4d88-9053-844477d1fb0e",
   "metadata": {},
   "outputs": [],
   "source": [
    "power = power_spectrum(filt_eeg, fs)"
   ]
  },
  {
   "cell_type": "code",
   "execution_count": 103,
   "id": "6fce4eed-e6b5-4ff3-b4a1-4aa9d148e25e",
   "metadata": {},
   "outputs": [
    {
     "data": {
      "image/png": "[encoded data removed]",
      "text/plain": [
       "<Figure size 432x288 with 1 Axes>"
      ]
     },
     "metadata": {
      "needs_background": "light"
     },
     "output_type": "display_data"
    }
   ],
   "source": [
    "plot_power(power,'O2',20)"
   ]
  },
  {
   "cell_type": "code",
   "execution_count": 104,
   "id": "814dc9bc-fdd7-4c34-a498-e0e4f1e54d8a",
   "metadata": {},
   "outputs": [
    {
     "data": {
      "text/plain": [
       "(0.0, 20.0)"
      ]
     },
     "execution_count": 104,
     "metadata": {},
     "output_type": "execute_result"
    },
    {
     "data": {
      "image/png": "[encoded data removed]",
      "text/plain": [
       "<Figure size 432x288 with 1 Axes>"
      ]
     },
     "metadata": {
      "needs_background": "light"
     },
     "output_type": "display_data"
    }
   ],
   "source": [
    "O1 = list(filt_eeg['O1'])\n",
    "f,p = signal.periodogram(O1, fs)\n",
    "plt.plot(f,p)\n",
    "plt.xlim(0,20)\n",
    "#plt.ylim(0,100)"
   ]
  },
  {
   "cell_type": "code",
   "execution_count": 112,
   "id": "372b3a40-4072-4760-bfbc-16168c0e7ff9",
   "metadata": {},
   "outputs": [
    {
     "name": "stdout",
     "output_type": "stream",
     "text": [
      "11.600000000000003\n",
      "10.000000000000002\n",
      "10.000000000000002\n",
      "11.600000000000003\n",
      "10.000000000000002\n",
      "10.000000000000002\n",
      "10.000000000000002\n",
      "10.000000000000002\n",
      "10.000000000000002\n",
      "10.000000000000002\n",
      "12.400000000000004\n",
      "10.800000000000002\n",
      "10.800000000000002\n",
      "10.000000000000002\n",
      "10.000000000000002\n",
      "10.800000000000002\n",
      "------------------\n",
      "accuracy: 0.625\n"
     ]
    }
   ],
   "source": [
    "count = 0 \n",
    "for idx in range(16):\n",
    "    eeg = make_df(erp_0['bin_data'], col_names, idx)\n",
    "    filt_eeg = filter_eeg(eeg, Fs=fs, low=6, high=20, notch_freq=60.0)\n",
    "    O1 = list(filt_eeg['O1'])\n",
    "    f,p = signal.periodogram(O1, fs)\n",
    "    df = f[1]-f[0]\n",
    "    freqs = np.arange(8.4,16,0.8)\n",
    "    fv = calc_featvec(p, df, freqs, band_width=0.4, num_harmonics=1)\n",
    "    pred = pick_freq(fv, freqs)\n",
    "    if pred == 10.000000000000002:\n",
    "        count += 1\n",
    "    print(pred)\n",
    "print('------------------')\n",
    "print(\"accuracy: \" + str(count/16))\n"
   ]
  },
  {
   "cell_type": "code",
   "execution_count": null,
   "id": "936496de-bcb9-4227-9ef6-31a79f28813f",
   "metadata": {},
   "outputs": [],
   "source": []
  }
 ],
 "metadata": {
  "kernelspec": {
   "display_name": "Python 3 (ipykernel)",
   "language": "python",
   "name": "python3"
  },
  "language_info": {
   "codemirror_mode": {
    "name": "ipython",
    "version": 3
   },
   "file_extension": ".py",
   "mimetype": "text/x-python",
   "name": "python",
   "nbconvert_exporter": "python",
   "pygments_lexer": "ipython3",
   "version": "3.9.7"
  }
 },
 "nbformat": 4,
 "nbformat_minor": 5
}
