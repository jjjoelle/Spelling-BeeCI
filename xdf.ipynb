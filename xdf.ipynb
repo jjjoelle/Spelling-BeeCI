{
 "cells": [
  {
   "cell_type": "code",
   "execution_count": 6,
   "id": "30b05acd-b2cb-41b1-8511-694615cd26a8",
   "metadata": {},
   "outputs": [],
   "source": [
    "from preprocessing import *\n",
    "from import_data import *\n",
    "from plotting import *\n",
    "data_dir = 'DataCollection/outputs/Ollie_SSVEP/'\n",
    "#col_names = ['Time','Fp1', 'O1', 'O2','C3','C4','P3','P4','Pz']\n",
    "ssvep_files = get_files(data_dir)"
   ]
  },
  {
   "cell_type": "code",
   "execution_count": 7,
   "id": "ea422c86-5c2f-4d2d-9085-4addd9888409",
   "metadata": {},
   "outputs": [
    {
     "data": {
      "text/plain": [
       "['DataCollection/outputs/Ollie_SSVEP/joelle_data_trial_000.txt',\n",
       " 'DataCollection/outputs/Ollie_SSVEP/joelle_good_10.8Hz_000.xdf',\n",
       " 'DataCollection/outputs/Ollie_SSVEP/joelle_good_10Hz_000.xdf',\n",
       " 'DataCollection/outputs/Ollie_SSVEP/joelle_good_11.6Hz_000.xdf',\n",
       " 'DataCollection/outputs/Ollie_SSVEP/joelle_good_12.4Hz_000.xdf',\n",
       " 'DataCollection/outputs/Ollie_SSVEP/joelle_good_13.2Hz_000.xdf',\n",
       " 'DataCollection/outputs/Ollie_SSVEP/joelle_good_14.8Hz_000.xdf',\n",
       " 'DataCollection/outputs/Ollie_SSVEP/joelle_good_14Hz_000.xdf',\n",
       " 'DataCollection/outputs/Ollie_SSVEP/joelle_good_15.6Hz_000.xdf',\n",
       " 'DataCollection/outputs/Ollie_SSVEP/joelle_good_8.4Hz_000.xdf',\n",
       " 'DataCollection/outputs/Ollie_SSVEP/joelle_good_8.4Hz_001.xdf',\n",
       " 'DataCollection/outputs/Ollie_SSVEP/joelle_good_9.2Hz_000.xdf',\n",
       " 'DataCollection/outputs/Ollie_SSVEP/joelle_meta_trial_000.txt']"
      ]
     },
     "execution_count": 7,
     "metadata": {},
     "output_type": "execute_result"
    }
   ],
   "source": [
    "ssvep_files"
   ]
  },
  {
   "cell_type": "code",
   "execution_count": 8,
   "id": "e4848ed6-6de0-42df-80a4-aca781172fdb",
   "metadata": {},
   "outputs": [],
   "source": [
    "import pyxdf"
   ]
  },
  {
   "cell_type": "code",
   "execution_count": 75,
   "id": "c2130e1e-dd7e-416a-9d1a-37806272a9b6",
   "metadata": {},
   "outputs": [],
   "source": [
    "streams, header = pyxdf.load_xdf(ssvep_files[7],dejitter_timestamps=False)"
   ]
  },
  {
   "cell_type": "code",
   "execution_count": 78,
   "id": "a3a65efa-d7e5-4bda-ac9b-8e555d566438",
   "metadata": {},
   "outputs": [
    {
     "ename": "IndexError",
     "evalue": "list index out of range",
     "output_type": "error",
     "traceback": [
      "\u001b[0;31m---------------------------------------------------------------------------\u001b[0m",
      "\u001b[0;31mIndexError\u001b[0m                                Traceback (most recent call last)",
      "\u001b[0;32m/var/folders/r5/gg5z6rvn6bb70r67y0ntjw8w0000gn/T/ipykernel_62653/804173080.py\u001b[0m in \u001b[0;36m<module>\u001b[0;34m\u001b[0m\n\u001b[0;32m----> 1\u001b[0;31m \u001b[0mstreams\u001b[0m\u001b[0;34m[\u001b[0m\u001b[0;36m2\u001b[0m\u001b[0;34m]\u001b[0m\u001b[0;34m\u001b[0m\u001b[0;34m\u001b[0m\u001b[0m\n\u001b[0m",
      "\u001b[0;31mIndexError\u001b[0m: list index out of range"
     ]
    }
   ],
   "source": [
    "streams[2]"
   ]
  },
  {
   "cell_type": "code",
   "execution_count": 46,
   "id": "b1f3a1d4-f6c6-4cb5-bdb8-9f4b607021c6",
   "metadata": {},
   "outputs": [
    {
     "data": {
      "text/plain": [
       "'AUX'"
      ]
     },
     "execution_count": 46,
     "metadata": {},
     "output_type": "execute_result"
    }
   ],
   "source": [
    "streams[0]['info']['type'][0]"
   ]
  },
  {
   "cell_type": "code",
   "execution_count": 22,
   "id": "c800437d-d9b5-4666-910e-f959961a0576",
   "metadata": {},
   "outputs": [],
   "source": [
    "data = streams[0]['time_series']"
   ]
  },
  {
   "cell_type": "code",
   "execution_count": 24,
   "id": "57bc8ac3-47dc-4005-9912-485c70a244cf",
   "metadata": {},
   "outputs": [
    {
     "data": {
      "text/plain": [
       "(20410, 8)"
      ]
     },
     "execution_count": 24,
     "metadata": {},
     "output_type": "execute_result"
    }
   ],
   "source": [
    "data.shape"
   ]
  },
  {
   "cell_type": "code",
   "execution_count": 25,
   "id": "a2dcc84d-7e62-459e-ade2-c3e6dcfa2921",
   "metadata": {},
   "outputs": [],
   "source": [
    "times = streams[0]['time_stamps']"
   ]
  },
  {
   "cell_type": "code",
   "execution_count": 27,
   "id": "8a159019-5e61-4abe-824d-c5c6d00ce46f",
   "metadata": {},
   "outputs": [
    {
     "data": {
      "text/plain": [
       "(20410,)"
      ]
     },
     "execution_count": 27,
     "metadata": {},
     "output_type": "execute_result"
    }
   ],
   "source": [
    "times.shape"
   ]
  },
  {
   "cell_type": "code",
   "execution_count": 29,
   "id": "3bd6db26-484b-48f3-8eb7-158e9dbff794",
   "metadata": {},
   "outputs": [
    {
     "data": {
      "text/plain": [
       "3518.2805024961813"
      ]
     },
     "execution_count": 29,
     "metadata": {},
     "output_type": "execute_result"
    }
   ],
   "source": [
    "times[0]"
   ]
  },
  {
   "cell_type": "code",
   "execution_count": null,
   "id": "71ad608b-50a1-4b80-8159-9c0c202eb4c5",
   "metadata": {},
   "outputs": [],
   "source": []
  }
 ],
 "metadata": {
  "kernelspec": {
   "display_name": "Python 3 (ipykernel)",
   "language": "python",
   "name": "python3"
  },
  "language_info": {
   "codemirror_mode": {
    "name": "ipython",
    "version": 3
   },
   "file_extension": ".py",
   "mimetype": "text/x-python",
   "name": "python",
   "nbconvert_exporter": "python",
   "pygments_lexer": "ipython3",
   "version": "3.9.7"
  }
 },
 "nbformat": 4,
 "nbformat_minor": 5
}
